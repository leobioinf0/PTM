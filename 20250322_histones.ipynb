{
  "nbformat": 4,
  "nbformat_minor": 0,
  "metadata": {
    "colab": {
      "provenance": [],
      "mount_file_id": "1JWgGL9MOkjKbqHhZbZiLUs1EljM9gwu1",
      "authorship_tag": "ABX9TyNM5iF0M3wLUrq3zb1xRaaN",
      "include_colab_link": true
    },
    "kernelspec": {
      "name": "python3",
      "display_name": "Python 3"
    },
    "language_info": {
      "name": "python"
    }
  },
  "cells": [
    {
      "cell_type": "markdown",
      "metadata": {
        "id": "view-in-github",
        "colab_type": "text"
      },
      "source": [
        "<a href=\"https://colab.research.google.com/github/leobioinf0/PTM/blob/main/20250322_histones.ipynb\" target=\"_parent\"><img src=\"https://colab.research.google.com/assets/colab-badge.svg\" alt=\"Open In Colab\"/></a>"
      ]
    },
    {
      "cell_type": "code",
      "source": [
        "!pip install dash -qq\n",
        "import pandas as pd\n",
        "import seaborn as sns\n",
        "import matplotlib.pyplot as plt\n",
        "from dash import Dash, dcc, html, Input, Output\n",
        "import plotly.express as px\n",
        "df = pd.read_csv(\"https://raw.githubusercontent.com/leobioinf0/PTM/refs/heads/main/ptm.csv\", index_col=[0])\n",
        "external_stylesheets = ['https://codepen.io/chriddyp/pen/bWLwgP.css']"
      ],
      "metadata": {
        "id": "fufAnSWKvI-Z"
      },
      "execution_count": 3,
      "outputs": []
    },
    {
      "cell_type": "code",
      "source": [
        "\n",
        "app = Dash(external_stylesheets=external_stylesheets)\n",
        "app.layout = [\n",
        "    html.Div(className='row', children='PTM',style={'textAlign': 'center', 'color': 'blue', 'fontSize': 30}),\n",
        "    html.Div(className='row', children=[dcc.RadioItems(options=['rep', 'pool', 'dev'],value='pool',inline=True,id='heatmaps-x-dev')]),\n",
        "    html.Div(className='row', children=[dcc.Checklist(options=list(df[\"histone\"].unique()),value=list(df[\"histone\"].unique()),inline=True,id='heatmaps-x-hist')]),\n",
        "    html.Div(className='row', children=[dcc.Checklist(options=list(df[\"histone_pep\"].unique()),value=list(df[\"histone_pep\"].unique()),inline=True,id='heatmaps-x-histone_pep'),\n",
        "                                        dcc.Dropdown(options = list(df.index),value = list(df.index),multi=True, optionHeight=50, id = 'heatmaps-x-pep'),\n",
        "                                        dcc.Graph(figure={}, responsive=False, id='heatmaps-x-graph')])]\n",
        "\n",
        "@app.callback(Output(\"heatmaps-x-graph\", \"figure\"),[Input(\"heatmaps-x-dev\", \"value\"),Input(\"heatmaps-x-hist\", \"value\"),Input(\"heatmaps-x-histone_pep\", \"value\"),Input(\"heatmaps-x-pep\", \"value\")])\n",
        "def update_graph(cols, hist,histpep, rows):\n",
        "    match cols:\n",
        "        case \"rep\":\n",
        "            col = ['ED01r1', 'ED01r2', 'ED01r3', 'ED02r1', 'ED02r2', 'ED02r3', 'ED03r1', 'ED03r2', 'ED03r3', 'ED04r1', 'ED04r2', 'ED04r3', 'ED05r1', 'ED05r2', 'ED05r3', 'EJ06r1', 'EJ06r2', 'EJ06r3', 'EJ07r1', 'EJ07r2', 'EJ07r3', 'EJ08r1', 'EJ08r2', 'EJ08r3', 'EJ09r1', 'EJ09r2', 'EJ09r3', 'EJ10r1', 'EJ10r2', 'EJ10r3', 'QQ00r0']\n",
        "            width= 1500\n",
        "        case \"pool\":\n",
        "            col = ['ED01', 'ED02', 'ED03', 'ED04', 'ED05', 'EJ06', 'EJ07', 'EJ08', 'EJ09', 'EJ10', 'QQ00']\n",
        "            width= 900\n",
        "        case \"dev\":\n",
        "            col = ['ED', 'EJ', 'QQ']\n",
        "            width= 500\n",
        "    dff = df.loc[(df.index.isin(rows)) & (df.histone.isin(hist))& (df.histone_pep.isin(histpep)),col].copy()\n",
        "    fig = px.imshow(dff, aspect=\"auto\", text_auto=True,width = width,height = dff.shape[0]*30)\n",
        "    fig.update_xaxes(side=\"top\")\n",
        "\n",
        "    return fig\n",
        "if __name__ == '__main__':\n",
        "    app.run(debug=True, use_reloader=False)"
      ],
      "metadata": {
        "id": "aSyjCjC7x_K3"
      },
      "execution_count": null,
      "outputs": []
    }
  ]
}